{
 "cells": [
  {
   "cell_type": "markdown",
   "metadata": {},
   "source": [
    "\n",
    "Hands-on python challenges"
   ]
  },
  {
   "cell_type": "code",
   "execution_count": 2,
   "metadata": {},
   "outputs": [
    {
     "name": "stdout",
     "output_type": "stream",
     "text": [
      "5 is prime: True\n"
     ]
    }
   ],
   "source": [
    "# 1. write a python program to check if a number is prime\n",
    "def is_prime(n):\n",
    "    if n <= 1:\n",
    "        return False\n",
    "    for i in range(2, int(n ** 0.5) + 1):\n",
    "        if n % i == 0:\n",
    "            return False\n",
    "    return True\n",
    "\n",
    "\n",
    "number = int(input(\"Enter a number:\"))\n",
    "print(f\"{number} is prime: {is_prime(number)}\")\n"
   ]
  },
  {
   "cell_type": "code",
   "execution_count": 6,
   "metadata": {},
   "outputs": [
    {
     "name": "stdout",
     "output_type": "stream",
     "text": [
      "[0, 1, 1, 2, 3]\n"
     ]
    }
   ],
   "source": [
    "#2. Create a FIbonacci sequence generator using recursion\n",
    "def fibonacci(n):\n",
    "    if n <= 1:\n",
    "        return n\n",
    "    return fibonacci(n - 1) + fibonacci(n - 2)\n",
    "\n",
    "\n",
    "n = int(input(\"Enter the number of terms:\"))\n",
    "fib_sequence = [fibonacci(i) for i in range(n)]\n",
    "print(fib_sequence)\n",
    "\n"
   ]
  },
  {
   "cell_type": "code",
   "execution_count": 7,
   "metadata": {},
   "outputs": [
    {
     "name": "stdout",
     "output_type": "stream",
     "text": [
      "GCD of 10 and 25 is 5\n",
      "LCM of 10 and 25 is 50\n"
     ]
    }
   ],
   "source": [
    "#3. Write a function to find the greatest common divisor (GCD) and Least Common Multiple (LCM) of two numbers\n",
    "def gcd(a, b):\n",
    "    while b:\n",
    "        a, b = b, a % b\n",
    "    return a\n",
    "\n",
    "def lcm(a, b):\n",
    "    return a * b // gcd(a, b)\n",
    "\n",
    "a = int(input(\"Enter the first number:\"))\n",
    "b = int(input(\"Enter the second number:\"))\n",
    "print(f\"GCD of {a} and {b} is {gcd(a, b)}\")\n",
    "print(f\"LCM of {a} and {b} is {lcm(a, b)}\")"
   ]
  },
  {
   "cell_type": "code",
   "execution_count": null,
   "metadata": {},
   "outputs": [],
   "source": [
    "#4. Build a simple calculator using functions\n",
    "def add(x, y):\n",
    "    return x + y\n",
    "\n",
    "def subtract(x, y):\n",
    "    return x - y\n",
    "\n",
    "def multiply(x, y):\n",
    "    return x * y\n",
    "\n",
    "def divide(x, y):\n",
    "    if y == 0:\n",
    "        return \"Cannot divide by zero\"\n",
    "    return x / y\n",
    "\n",
    "a = int(input(\"Enter the first number:\"))\n",
    "b = int(input(\"Enter the second number:\"))\n",
    "print(\"Add:\", add(a, b))\n",
    "print(\"Subtract:\", subtract(a, b))\n",
    "print(\"Multiply:\", multiply(a, b))\n",
    "print(\"Divide:\", divide(a, b))\n"
   ]
  },
  {
   "cell_type": "code",
   "execution_count": 10,
   "metadata": {},
   "outputs": [
    {
     "name": "stdout",
     "output_type": "stream",
     "text": [
      "List after before duplicates: [1, 1, 1, 2, 3, 4, 2, 3]\n",
      "List after removing duplicates [1, 2, 3, 4]\n"
     ]
    }
   ],
   "source": [
    "# 5. Implement a program that takes a list and removes duplicates.\n",
    "def remove_duplicates(lst):\n",
    "    return list(set(lst))\n",
    "\n",
    "lst = list(map(int, input(\"Enter the list of numbers:\").split()))\n",
    "print(\"List after before duplicates:\" ,lst)\n",
    "print( \"List after removing duplicates\" ,remove_duplicates(lst))"
   ]
  },
  {
   "cell_type": "code",
   "execution_count": 11,
   "metadata": {},
   "outputs": [
    {
     "name": "stdout",
     "output_type": "stream",
     "text": [
      "name: John Doe\n",
      "age: 19\n",
      "city: Hyderabad\n",
      "job: Student\n",
      "country: India\n"
     ]
    }
   ],
   "source": [
    "# 6. Create a dictionary, add five key-value pairs, and print them\n",
    "\n",
    "my_dict = {\n",
    "    'name': 'John Doe',\n",
    "    'age': 19,\n",
    "    'city': 'Hyderabad',\n",
    "    'job': 'Student',\n",
    "    'country': 'India'\n",
    "}\n",
    "\n",
    "for key, value in my_dict.items():\n",
    "    print(f\"{key}: {value}\")\n"
   ]
  },
  {
   "cell_type": "code",
   "execution_count": 12,
   "metadata": {},
   "outputs": [
    {
     "name": "stdout",
     "output_type": "stream",
     "text": [
      "Matrix Sum:\n",
      " [[ 6  8]\n",
      " [10 12]]\n",
      "Matrix Difference:\n",
      " [[-4 -4]\n",
      " [-4 -4]]\n",
      "Matrix Product:\n",
      " [[19 22]\n",
      " [43 50]]\n",
      "Matrix Transpose:\n",
      " [[1 3]\n",
      " [2 4]]\n"
     ]
    }
   ],
   "source": [
    "#7. Use NumPy to perform basic matrix operations.\n",
    "import numpy as np\n",
    "A = np.array([[1, 2], [3, 4]])\n",
    "B = np.array([[5, 6], [7, 8]])\n",
    "\n",
    "matrix_sum = A + B\n",
    "matrix_diff = A - B\n",
    "matrix_product = np.dot(A, B)\n",
    "matrix_transpose = np.transpose(A)\n",
    "\n",
    "print(\"Matrix Sum:\\n\", matrix_sum)\n",
    "print(\"Matrix Difference:\\n\", matrix_diff)\n",
    "print(\"Matrix Product:\\n\", matrix_product)\n",
    "print(\"Matrix Transpose:\\n\", matrix_transpose)\n"
   ]
  },
  {
   "cell_type": "code",
   "execution_count": 13,
   "metadata": {},
   "outputs": [
    {
     "name": "stdout",
     "output_type": "stream",
     "text": [
      "   id        name  class  mark  gender\n",
      "0   1    John Deo   Four    75  female\n",
      "1   2    Max Ruin  Three    85    male\n",
      "2   3      Arnold  Three    55    male\n",
      "3   4  Krish Star   Four    60  female\n",
      "4   5   John Mike   Four    60  female\n"
     ]
    }
   ],
   "source": [
    "#8. Read a CSV file using pandas and display the first 5 rows.\n",
    "import pandas as pd\n",
    "data = pd.read_csv('data.csv')\n",
    "print(data.head())"
   ]
  },
  {
   "cell_type": "code",
   "execution_count": 16,
   "metadata": {},
   "outputs": [
    {
     "name": "stdout",
     "output_type": "stream",
     "text": [
      "input text: Hello World, Hello Universe\n",
      "Most common word: Hello\n"
     ]
    }
   ],
   "source": [
    "#9. Write a function that finds the most common word in a given text.\n",
    "def most_common_word(text):\n",
    "    words = text.split()\n",
    "    word_count = {}\n",
    "    for word in words:\n",
    "        if word in word_count:\n",
    "            word_count[word] += 1\n",
    "        else:\n",
    "            word_count[word] = 1\n",
    "    return max(word_count, key=word_count.get)\n",
    "\n",
    "text = input(\"Enter the text:\")\n",
    "print(\"input text:\", text)\n",
    "print(\"Most common word:\", most_common_word(text))"
   ]
  },
  {
   "cell_type": "code",
   "execution_count": 22,
   "metadata": {},
   "outputs": [
    {
     "name": "stdout",
     "output_type": "stream",
     "text": [
      "Random Password: 455*g5E&6fGb\n"
     ]
    }
   ],
   "source": [
    "#10. Create a function that generates a random password with a mix of uppercase, lowercase, digits, and special characters.\n",
    "import random\n",
    "import string\n",
    "def generate_password(length=8):\n",
    "    characters = string.ascii_letters + string.digits + string.punctuation\n",
    "    password = ''.join(random.choice(characters) for i in range(length))\n",
    "    return password\n",
    "\n",
    "print(\"Random Password:\", generate_password(12))\n"
   ]
  }
 ],
 "metadata": {
  "kernelspec": {
   "display_name": "Python 3",
   "language": "python",
   "name": "python3"
  },
  "language_info": {
   "codemirror_mode": {
    "name": "ipython",
    "version": 3
   },
   "file_extension": ".py",
   "mimetype": "text/x-python",
   "name": "python",
   "nbconvert_exporter": "python",
   "pygments_lexer": "ipython3",
   "version": "3.12.0"
  }
 },
 "nbformat": 4,
 "nbformat_minor": 2
}
